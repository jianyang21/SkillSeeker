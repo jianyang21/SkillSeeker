{
  "cells": [
    {
      "cell_type": "code",
      "execution_count": null,
      "metadata": {
        "colab": {
          "base_uri": "https://localhost:8080/"
        },
        "id": "Az0oj7SrR0iG",
        "outputId": "08739ffe-a870-4b72-f9bd-e81480d0018e"
      },
      "outputs": [
        {
          "output_type": "stream",
          "name": "stdout",
          "text": [
            "Requirement already satisfied: transformers in /usr/local/lib/python3.11/dist-packages (4.51.3)\n",
            "Requirement already satisfied: filelock in /usr/local/lib/python3.11/dist-packages (from transformers) (3.18.0)\n",
            "Requirement already satisfied: huggingface-hub<1.0,>=0.30.0 in /usr/local/lib/python3.11/dist-packages (from transformers) (0.31.1)\n",
            "Requirement already satisfied: numpy>=1.17 in /usr/local/lib/python3.11/dist-packages (from transformers) (2.0.2)\n",
            "Requirement already satisfied: packaging>=20.0 in /usr/local/lib/python3.11/dist-packages (from transformers) (24.2)\n",
            "Requirement already satisfied: pyyaml>=5.1 in /usr/local/lib/python3.11/dist-packages (from transformers) (6.0.2)\n",
            "Requirement already satisfied: regex!=2019.12.17 in /usr/local/lib/python3.11/dist-packages (from transformers) (2024.11.6)\n",
            "Requirement already satisfied: requests in /usr/local/lib/python3.11/dist-packages (from transformers) (2.32.3)\n",
            "Requirement already satisfied: tokenizers<0.22,>=0.21 in /usr/local/lib/python3.11/dist-packages (from transformers) (0.21.1)\n",
            "Requirement already satisfied: safetensors>=0.4.3 in /usr/local/lib/python3.11/dist-packages (from transformers) (0.5.3)\n",
            "Requirement already satisfied: tqdm>=4.27 in /usr/local/lib/python3.11/dist-packages (from transformers) (4.67.1)\n",
            "Requirement already satisfied: fsspec>=2023.5.0 in /usr/local/lib/python3.11/dist-packages (from huggingface-hub<1.0,>=0.30.0->transformers) (2025.3.2)\n",
            "Requirement already satisfied: typing-extensions>=3.7.4.3 in /usr/local/lib/python3.11/dist-packages (from huggingface-hub<1.0,>=0.30.0->transformers) (4.13.2)\n",
            "Requirement already satisfied: hf-xet<2.0.0,>=1.1.0 in /usr/local/lib/python3.11/dist-packages (from huggingface-hub<1.0,>=0.30.0->transformers) (1.1.0)\n",
            "Requirement already satisfied: charset-normalizer<4,>=2 in /usr/local/lib/python3.11/dist-packages (from requests->transformers) (3.4.2)\n",
            "Requirement already satisfied: idna<4,>=2.5 in /usr/local/lib/python3.11/dist-packages (from requests->transformers) (3.10)\n",
            "Requirement already satisfied: urllib3<3,>=1.21.1 in /usr/local/lib/python3.11/dist-packages (from requests->transformers) (2.4.0)\n",
            "Requirement already satisfied: certifi>=2017.4.17 in /usr/local/lib/python3.11/dist-packages (from requests->transformers) (2025.4.26)\n"
          ]
        }
      ],
      "source": [
        "pip install transformers"
      ]
    },
    {
      "cell_type": "code",
      "execution_count": null,
      "metadata": {
        "colab": {
          "base_uri": "https://localhost:8080/"
        },
        "id": "aIHehvWgZoAH",
        "outputId": "952846bd-c090-4c4f-fdd8-af76c1fbd498"
      },
      "outputs": [
        {
          "output_type": "stream",
          "name": "stdout",
          "text": [
            "Requirement already satisfied: firebase_admin in /usr/local/lib/python3.11/dist-packages (6.8.0)\n",
            "Requirement already satisfied: cachecontrol>=0.12.14 in /usr/local/lib/python3.11/dist-packages (from firebase_admin) (0.14.3)\n",
            "Requirement already satisfied: google-api-python-client>=1.7.8 in /usr/local/lib/python3.11/dist-packages (from firebase_admin) (2.169.0)\n",
            "Requirement already satisfied: google-cloud-storage>=1.37.1 in /usr/local/lib/python3.11/dist-packages (from firebase_admin) (2.19.0)\n",
            "Requirement already satisfied: pyjwt>=2.5.0 in /usr/local/lib/python3.11/dist-packages (from pyjwt[crypto]>=2.5.0->firebase_admin) (2.10.1)\n",
            "Requirement already satisfied: google-api-core<3.0.0dev,>=1.22.1 in /usr/local/lib/python3.11/dist-packages (from google-api-core[grpc]<3.0.0dev,>=1.22.1; platform_python_implementation != \"PyPy\"->firebase_admin) (2.24.2)\n",
            "Requirement already satisfied: google-cloud-firestore>=2.19.0 in /usr/local/lib/python3.11/dist-packages (from firebase_admin) (2.20.2)\n",
            "Requirement already satisfied: requests>=2.16.0 in /usr/local/lib/python3.11/dist-packages (from cachecontrol>=0.12.14->firebase_admin) (2.32.3)\n",
            "Requirement already satisfied: msgpack<2.0.0,>=0.5.2 in /usr/local/lib/python3.11/dist-packages (from cachecontrol>=0.12.14->firebase_admin) (1.1.0)\n",
            "Requirement already satisfied: googleapis-common-protos<2.0.0,>=1.56.2 in /usr/local/lib/python3.11/dist-packages (from google-api-core<3.0.0dev,>=1.22.1->google-api-core[grpc]<3.0.0dev,>=1.22.1; platform_python_implementation != \"PyPy\"->firebase_admin) (1.70.0)\n",
            "Requirement already satisfied: protobuf!=3.20.0,!=3.20.1,!=4.21.0,!=4.21.1,!=4.21.2,!=4.21.3,!=4.21.4,!=4.21.5,<7.0.0,>=3.19.5 in /usr/local/lib/python3.11/dist-packages (from google-api-core<3.0.0dev,>=1.22.1->google-api-core[grpc]<3.0.0dev,>=1.22.1; platform_python_implementation != \"PyPy\"->firebase_admin) (5.29.4)\n",
            "Requirement already satisfied: proto-plus<2.0.0,>=1.22.3 in /usr/local/lib/python3.11/dist-packages (from google-api-core<3.0.0dev,>=1.22.1->google-api-core[grpc]<3.0.0dev,>=1.22.1; platform_python_implementation != \"PyPy\"->firebase_admin) (1.26.1)\n",
            "Requirement already satisfied: google-auth<3.0.0,>=2.14.1 in /usr/local/lib/python3.11/dist-packages (from google-api-core<3.0.0dev,>=1.22.1->google-api-core[grpc]<3.0.0dev,>=1.22.1; platform_python_implementation != \"PyPy\"->firebase_admin) (2.38.0)\n",
            "Requirement already satisfied: grpcio<2.0dev,>=1.33.2 in /usr/local/lib/python3.11/dist-packages (from google-api-core[grpc]<3.0.0dev,>=1.22.1; platform_python_implementation != \"PyPy\"->firebase_admin) (1.71.0)\n",
            "Requirement already satisfied: grpcio-status<2.0.dev0,>=1.33.2 in /usr/local/lib/python3.11/dist-packages (from google-api-core[grpc]<3.0.0dev,>=1.22.1; platform_python_implementation != \"PyPy\"->firebase_admin) (1.71.0)\n",
            "Requirement already satisfied: httplib2<1.0.0,>=0.19.0 in /usr/local/lib/python3.11/dist-packages (from google-api-python-client>=1.7.8->firebase_admin) (0.22.0)\n",
            "Requirement already satisfied: google-auth-httplib2<1.0.0,>=0.2.0 in /usr/local/lib/python3.11/dist-packages (from google-api-python-client>=1.7.8->firebase_admin) (0.2.0)\n",
            "Requirement already satisfied: uritemplate<5,>=3.0.1 in /usr/local/lib/python3.11/dist-packages (from google-api-python-client>=1.7.8->firebase_admin) (4.1.1)\n",
            "Requirement already satisfied: google-cloud-core<3.0.0,>=1.4.1 in /usr/local/lib/python3.11/dist-packages (from google-cloud-firestore>=2.19.0->firebase_admin) (2.4.3)\n",
            "Requirement already satisfied: google-resumable-media>=2.7.2 in /usr/local/lib/python3.11/dist-packages (from google-cloud-storage>=1.37.1->firebase_admin) (2.7.2)\n",
            "Requirement already satisfied: google-crc32c<2.0dev,>=1.0 in /usr/local/lib/python3.11/dist-packages (from google-cloud-storage>=1.37.1->firebase_admin) (1.7.1)\n",
            "Requirement already satisfied: cryptography>=3.4.0 in /usr/local/lib/python3.11/dist-packages (from pyjwt[crypto]>=2.5.0->firebase_admin) (43.0.3)\n",
            "Requirement already satisfied: cffi>=1.12 in /usr/local/lib/python3.11/dist-packages (from cryptography>=3.4.0->pyjwt[crypto]>=2.5.0->firebase_admin) (1.17.1)\n",
            "Requirement already satisfied: cachetools<6.0,>=2.0.0 in /usr/local/lib/python3.11/dist-packages (from google-auth<3.0.0,>=2.14.1->google-api-core<3.0.0dev,>=1.22.1->google-api-core[grpc]<3.0.0dev,>=1.22.1; platform_python_implementation != \"PyPy\"->firebase_admin) (5.5.2)\n",
            "Requirement already satisfied: pyasn1-modules>=0.2.1 in /usr/local/lib/python3.11/dist-packages (from google-auth<3.0.0,>=2.14.1->google-api-core<3.0.0dev,>=1.22.1->google-api-core[grpc]<3.0.0dev,>=1.22.1; platform_python_implementation != \"PyPy\"->firebase_admin) (0.4.2)\n",
            "Requirement already satisfied: rsa<5,>=3.1.4 in /usr/local/lib/python3.11/dist-packages (from google-auth<3.0.0,>=2.14.1->google-api-core<3.0.0dev,>=1.22.1->google-api-core[grpc]<3.0.0dev,>=1.22.1; platform_python_implementation != \"PyPy\"->firebase_admin) (4.9.1)\n",
            "Requirement already satisfied: pyparsing!=3.0.0,!=3.0.1,!=3.0.2,!=3.0.3,<4,>=2.4.2 in /usr/local/lib/python3.11/dist-packages (from httplib2<1.0.0,>=0.19.0->google-api-python-client>=1.7.8->firebase_admin) (3.2.3)\n",
            "Requirement already satisfied: charset-normalizer<4,>=2 in /usr/local/lib/python3.11/dist-packages (from requests>=2.16.0->cachecontrol>=0.12.14->firebase_admin) (3.4.2)\n",
            "Requirement already satisfied: idna<4,>=2.5 in /usr/local/lib/python3.11/dist-packages (from requests>=2.16.0->cachecontrol>=0.12.14->firebase_admin) (3.10)\n",
            "Requirement already satisfied: urllib3<3,>=1.21.1 in /usr/local/lib/python3.11/dist-packages (from requests>=2.16.0->cachecontrol>=0.12.14->firebase_admin) (2.4.0)\n",
            "Requirement already satisfied: certifi>=2017.4.17 in /usr/local/lib/python3.11/dist-packages (from requests>=2.16.0->cachecontrol>=0.12.14->firebase_admin) (2025.4.26)\n",
            "Requirement already satisfied: pycparser in /usr/local/lib/python3.11/dist-packages (from cffi>=1.12->cryptography>=3.4.0->pyjwt[crypto]>=2.5.0->firebase_admin) (2.22)\n",
            "Requirement already satisfied: pyasn1<0.7.0,>=0.6.1 in /usr/local/lib/python3.11/dist-packages (from pyasn1-modules>=0.2.1->google-auth<3.0.0,>=2.14.1->google-api-core<3.0.0dev,>=1.22.1->google-api-core[grpc]<3.0.0dev,>=1.22.1; platform_python_implementation != \"PyPy\"->firebase_admin) (0.6.1)\n"
          ]
        }
      ],
      "source": [
        "pip install firebase_admin"
      ]
    },
    {
      "cell_type": "code",
      "execution_count": null,
      "metadata": {
        "id": "_nwzNZtNZpTv"
      },
      "outputs": [],
      "source": [
        "from firebase_admin import credentials , initialize_app,db ,firestore"
      ]
    },
    {
      "cell_type": "code",
      "execution_count": null,
      "metadata": {
        "id": "LqRtITCDZ--T"
      },
      "outputs": [],
      "source": [
        "cred = credentials.Certificate(\"/content/skillseeker-650ac-firebase-adminsdk-fbsvc-caf65357d5.json\")"
      ]
    },
    {
      "cell_type": "code",
      "source": [
        "initialize_app(cred)"
      ],
      "metadata": {
        "colab": {
          "base_uri": "https://localhost:8080/"
        },
        "id": "uJ_IOAB2KXgW",
        "outputId": "ba45598f-a508-4e65-cd55-7fbc5c4c258a"
      },
      "execution_count": null,
      "outputs": [
        {
          "output_type": "execute_result",
          "data": {
            "text/plain": [
              "<firebase_admin.App at 0x7f7363f6c710>"
            ]
          },
          "metadata": {},
          "execution_count": 18
        }
      ]
    },
    {
      "cell_type": "code",
      "execution_count": null,
      "metadata": {
        "id": "mRUMzWw5bKsq"
      },
      "outputs": [],
      "source": [
        "db = firestore.client()"
      ]
    },
    {
      "cell_type": "code",
      "execution_count": null,
      "metadata": {
        "id": "t-afqJEMaPpE"
      },
      "outputs": [],
      "source": [
        "extracted_content =  db.collection(\"ExtractedContent\").get()"
      ]
    },
    {
      "cell_type": "code",
      "execution_count": null,
      "metadata": {
        "colab": {
          "base_uri": "https://localhost:8080/"
        },
        "id": "gMcbKCIJbIBw",
        "outputId": "4447e618-4b50-4315-ec5b-9369f968c24e"
      },
      "outputs": [
        {
          "output_type": "execute_result",
          "data": {
            "text/plain": [
              "[<google.cloud.firestore_v1.base_document.DocumentSnapshot at 0x7f72fdc81010>,\n",
              " <google.cloud.firestore_v1.base_document.DocumentSnapshot at 0x7f72fcdbb590>]"
            ]
          },
          "metadata": {},
          "execution_count": 21
        }
      ],
      "source": [
        "extracted_content"
      ]
    },
    {
      "cell_type": "code",
      "execution_count": null,
      "metadata": {
        "colab": {
          "base_uri": "https://localhost:8080/"
        },
        "id": "8qWrNW_wbYwS",
        "outputId": "6682a244-31f1-449b-d6f3-3b7a872388cb"
      },
      "outputs": [
        {
          "output_type": "stream",
          "name": "stdout",
          "text": [
            "{'role_applied': 'Data Scientist', 'resume_text': \"1 of 2 Juan Jose Carin  \\nData Scientist   \\nMountain View , CA 94041  \\n 650-336-4590  | juanjose.carin@gmail.com  \\n linkedin.com/in/juanjosecarin  | juanjocarin.github.io  \\n \\nProfessional  Profile  \\nPassionate abo ut data analysis and experiments, mainly focused on user  behavior, experience , and engagement , with a solid \\nbackground in data science and statistics, and extensive experience using data insights to drive business growth.  \\nEducation\\n2016  University  of California,  Berkeley  Master  of Information  and Data  Science  GPA:  3.93\\n \\n \\n Relevant  courses : \\n• Machine  Learning  \\n• Machine  Learning  at Scale  \\n• Storing  and Retrieving  Data  • Field  Experiments  \\n• Applied  Regression  and Time  Series  \\nAnalysis  \\n• Exploring  and Analyzing  Data  • Data  Visualization  and \\nCommunication  \\n• Research  Design  and Applications  for \\nData  Analysis  \\n2014 Universidad  Politécnica  de Madrid  M.S.  in Statistical  and Computational  Information  Processing  GPA:  3.69\\n \\n \\n Relevant  courses :  \\n• Data  Mining  \\n• Multivariate  Analysis  \\n• Time  Series  • Neural  Networks  and Statistical  \\nLearning  \\n• Regression  and Prediction  Methods  \\n• Optimization  Techniques  • Monte  Carlo  Techniques  \\n• Numerical  Methods  in Finance  \\n• Stochastic  Models  in Finance  \\n• Bayesian  Networks\\n2005  Universidad  Politécnica  de Madrid  M.S.  in Telecommunication  Engineering  GPA:  3.03\\nFocus  Area:  Radio  communication  systems  (radar  and mobile).  \\nFellowship:  First  year  at University,  due to Honors  obtained  last year  at high  school.  \\nSkills  \\n Programming  / Statistics  Big Data  Visual ization  Others  \\nProficient:  R, Python , SQL Hadoop , Hive , MrJob  Tableau  Git, AWS  \\nIntermediate:  SPSS , SAS, Matlab  Spark , Storm   Bash  \\nBasic:  EViews , Demetra+   D3.js Gephi , Neo4j , QGIS  \\nExperience  \\nDATA SCIENCE  \\nJan. 2016  – Mar.  2016 Data  Scientist  \\n CONENTO   Madrid,  Spain  (working  remotely)  \\n• Designed  and implemented  the ETL pipeline  for a predictive  model  of traffic  on the main  roads  in \\neastern  Spain  (a project  for the Spanish  government) . \\n• Automated  scripts  in R to extract,  transform,  clean  (incl. anomaly  detection),  and load  into MySQL  \\ndata  from  multiple  data  sources : road  traffic  sensors,  accidents , road  works,  weather .\\nJun. 2014  – Sep.  2014  Data  Scientist   \\n CONENTO  Madrid,  Spain  \\n• Designed  an experiment  for Google  Spain  (conducted  in October  2014)  to measure  the impact  of \\nYouTube  ads on the sales  of a car manufacturer 's dealer  network.  \\n• A matched -pair,  cluster -randomized  design , which  involved  selecting  the test and control  groups  \\nfrom  a sample  of 50+ cities  in Spain  (where  geo-targeted  ads were  possible)  based  on their  sales -\\nwise  similarity  over  time,  using  wavelets  (and  R). \\nMANAGEM ENT – SALES  (Electri cal Eng. ) \\nFeb. 2009 – Aug. 2013 Head  of Sales,  Spain  & Portugal  – Test &Measurement  dept.\\n YOKOGAWA  Madrid,  Spain  \\n• Applied  analysis  of sales  and market  trends  to decide  the direction  of the department.  \\n• Led a team  of 7 people .  \\n \\n2 of 2 Juan Jose Carin  \\nData Scientist   \\nMountain View , CA 94041  \\n 650-336-4590  | juanjose.carin@gmail.com  \\n linkedin.com/in/juanjosecarin  | juanjocarin.github.io  \\n \\n• Increased  revenue  by 6.3%,  gross  profit  by 4.2%,  and operating  income  by 146%,  and achieved  a 30%  \\nratio  of new  customers  (3x growth),  by entering  new  markets  and improvi ng customer  service  and \\ntraining .\\nSALES (Electri cal Eng.  & Telecom. ) \\nApr. 2008 – Jan. 2009 Sales  Engineer  – Test  & Meas urement  dept. \\n YOKOGAWA  Madrid,  Spain  \\n• Promoted  to head  of sales  after  5 months  leading  the sales  team.  \\nSep. 2004 – Mar. 2008 Sales  & Application  Engineer  \\n AYSCOM  Madrid,  Spain  \\n• Exceeded  sales  target  every  year  from  2005  to 2007  (achieved  60%  of the target  in the first 3 months  \\nof 2008 ). \\nEDUCATION\\nJul. 2002 – Jun. 2004 Tutor  of Differential  & Integral  Calculus,  Physics,  and Digital  Electronic  Circuits\\n ACADEMIA  UNIVERSITARIA  Madrid,  Spain  \\n• Highest -rated  professor  in student  surveys,  in 4 of the 6 terms.  \\n• Increased  ratio of stud ents passing the course by 25%.  \\nProjects   See juanjocarin.github.io  for additional  information\\n2016  SmartCam  \\nCapstone  Python , OpenCV , TensorFlow , AWS  (EC2, S3, DynamoDB ) \\nA scalable  cloud -based  video  monitoring  system  that features  motion  detection,  face  counting,  and image  recognition.\\n2015  Implementation  of the Shortest  Path  and PageRank  algorithms  with  the Wikipedia  graph  dataset  \\nMachine  Learning  at Scale  Hadoop  MrJob,  Python , AWS  EC2, AWS  S3\\nUsing  a graph  dataset  of almost  half a million  nodes.  \\n2015  Forest  cover  type  prediction  \\nMachine  Learning  Python , Scikit -Learn , Matplotlib  \\nA Kaggle  competition : predictions  of the predominant  kind  of tree cover,  from  strictly  cartographic  variables  such  as elevation  \\nand soil type,  using  random  forests,  SVMs,  kNNs,  Naive Bayes,  Gradient  Descent,  GMMs , …\\n2015  Redefining  the job search  process  \\nStoring  and Retrieving  Data  Hadoop  HDFS , Hive , Spark , Python , AWS  EC2, Tableau\\nA pipeline  that combines  data  from  Indeed  API and the U.S. Census  Bureau  to select  the best  locations  for data  scientists  \\nbased  on the number  of job postings,  housing  cost,  etc.\\n2015  A fresh  perspective  on Citi Bike  \\nData  Visualization  and Communication  Tableau , SQLite\\nAn interactive  website  to visualize  NYC Citi Bike  bicycle sharing  service.\\n2015  Investigating  the effect  of competition  on the ability  to solve  arithmetic  problems  \\nField  Experiments  R \\nA randomized  controlled  trial in which  300+  participants  were  assigned  to a control  group  or one of two test groups  to \\nevaluate  the effect  of competition  (being  compared  to no one or someone  better  or worse).  \\n2014  Prediction  of customer  churn  for a mobile  network  carrier  \\nData  Mining  SAS\\nPredictions  from  a sample  of 45,000+  customers,  using  tree decisions,  logistic  regression , and neural  networks.  \\n2014  Different  models  of Harmonized  Index  of Consumer  Prices  (HICP)  in Spain  \\nTime  Series  SPSS , Demetra+\\nForecasts  based  on exponential  smoothing,  ARIMA,  and transfer  function  (using  petrol  price  as independent  variable)  models.  \\n\", 'name': 'Juan Jose'}\n",
            "{'role_applied': 'Data Analyst', 'resume_text': \"SHAKTHI SARAVANAN D  \\n \\n+91 8778445852  • shakthid303@gmail.com  • linkedin.com/in/shakthi -saravanan -d-17953a240•  \\nSUMMARY  \\nAI and  data science student with hands -on experience in machine learning, data visualization, and software \\ndevelopment. Skilled in Python, SQL, Tableau, and TensorFlow, with a growing focus on Generative AI techniques \\nlike Large Language Models (LLMs) .  \\nEDUCATI ON \\nB.TECH  Sep 2022 – Sep 2026*  \\nBachelor  of Technology  in Artificial  Intelligence  and Data  Science.  \\n \\nATOMIC ENERGY CENTRAL SCHOOL                                                                                     July 2019  - June  2021  \\nHigher Secondary School - 89% \\nSecondary  School  - 88.4%  \\nTECHNICAL  SKILLS  \\nProgramming Languages:  Python, C, Java, C++, Javascript  \\nLibraries:  React, Nodejs, NLP, OpenCV, Tensorflow  \\nBusiness Intelligence:  Tableau  \\nCertifications:  Machine Learning A -Z: Hands -On Python & R in Data Science (Udemy) ,Python Data Analysis , Getting \\nStarted with Test Automation Using Selenium . \\nACADEMIC  PROJECTS  \\nSkillSeeker: NLP -Powered Resume Analyzer   May 2024 - June 2024  \\n• Engineered an NLP -based resume analyzer with SpaCy and NLTK, parsing 200+ res umes for key skills, increasing \\nrecruiter efficiency by 30%.  \\nMuscleManiac: Gym Tracker Applicatio n                                                                                        Aug 2024 - Oct 2024  \\n• Developed a gym tracking application using the MERN  stack, enabling users to log cardio and resistance training \\nactivities.  \\nCricketVision: Player Weakness & Strength Analyzer                                                                   Feb 2025 – Mar 2025  \\n• Highlights the use of computer vision (OpenCV) and analytics to assess cricketers' strengths and weaknesses.   \\nHOBBIES  \\nPresent Filming short films, Working on AI projects , watching sports, and fitness.  \\n \\n\", 'name': 'Shakthi Saravanan D'}\n"
          ]
        }
      ],
      "source": [
        "for doc in extracted_content:\n",
        "    print(doc.to_dict())"
      ]
    },
    {
      "cell_type": "code",
      "execution_count": null,
      "metadata": {
        "id": "t7olGOi2bnsd"
      },
      "outputs": [],
      "source": [
        "length_of_extracted_content = len(extracted_content)"
      ]
    },
    {
      "cell_type": "code",
      "execution_count": null,
      "metadata": {
        "colab": {
          "base_uri": "https://localhost:8080/"
        },
        "id": "MA778fW8cvDR",
        "outputId": "5c7ca2fe-f4b2-493e-a5d1-83eed4fd62ca"
      },
      "outputs": [
        {
          "output_type": "stream",
          "name": "stdout",
          "text": [
            "{'role_applied': 'Data Scientist', 'resume_text': \"1 of 2 Juan Jose Carin  \\nData Scientist   \\nMountain View , CA 94041  \\n 650-336-4590  | juanjose.carin@gmail.com  \\n linkedin.com/in/juanjosecarin  | juanjocarin.github.io  \\n \\nProfessional  Profile  \\nPassionate abo ut data analysis and experiments, mainly focused on user  behavior, experience , and engagement , with a solid \\nbackground in data science and statistics, and extensive experience using data insights to drive business growth.  \\nEducation\\n2016  University  of California,  Berkeley  Master  of Information  and Data  Science  GPA:  3.93\\n \\n \\n Relevant  courses : \\n• Machine  Learning  \\n• Machine  Learning  at Scale  \\n• Storing  and Retrieving  Data  • Field  Experiments  \\n• Applied  Regression  and Time  Series  \\nAnalysis  \\n• Exploring  and Analyzing  Data  • Data  Visualization  and \\nCommunication  \\n• Research  Design  and Applications  for \\nData  Analysis  \\n2014 Universidad  Politécnica  de Madrid  M.S.  in Statistical  and Computational  Information  Processing  GPA:  3.69\\n \\n \\n Relevant  courses :  \\n• Data  Mining  \\n• Multivariate  Analysis  \\n• Time  Series  • Neural  Networks  and Statistical  \\nLearning  \\n• Regression  and Prediction  Methods  \\n• Optimization  Techniques  • Monte  Carlo  Techniques  \\n• Numerical  Methods  in Finance  \\n• Stochastic  Models  in Finance  \\n• Bayesian  Networks\\n2005  Universidad  Politécnica  de Madrid  M.S.  in Telecommunication  Engineering  GPA:  3.03\\nFocus  Area:  Radio  communication  systems  (radar  and mobile).  \\nFellowship:  First  year  at University,  due to Honors  obtained  last year  at high  school.  \\nSkills  \\n Programming  / Statistics  Big Data  Visual ization  Others  \\nProficient:  R, Python , SQL Hadoop , Hive , MrJob  Tableau  Git, AWS  \\nIntermediate:  SPSS , SAS, Matlab  Spark , Storm   Bash  \\nBasic:  EViews , Demetra+   D3.js Gephi , Neo4j , QGIS  \\nExperience  \\nDATA SCIENCE  \\nJan. 2016  – Mar.  2016 Data  Scientist  \\n CONENTO   Madrid,  Spain  (working  remotely)  \\n• Designed  and implemented  the ETL pipeline  for a predictive  model  of traffic  on the main  roads  in \\neastern  Spain  (a project  for the Spanish  government) . \\n• Automated  scripts  in R to extract,  transform,  clean  (incl. anomaly  detection),  and load  into MySQL  \\ndata  from  multiple  data  sources : road  traffic  sensors,  accidents , road  works,  weather .\\nJun. 2014  – Sep.  2014  Data  Scientist   \\n CONENTO  Madrid,  Spain  \\n• Designed  an experiment  for Google  Spain  (conducted  in October  2014)  to measure  the impact  of \\nYouTube  ads on the sales  of a car manufacturer 's dealer  network.  \\n• A matched -pair,  cluster -randomized  design , which  involved  selecting  the test and control  groups  \\nfrom  a sample  of 50+ cities  in Spain  (where  geo-targeted  ads were  possible)  based  on their  sales -\\nwise  similarity  over  time,  using  wavelets  (and  R). \\nMANAGEM ENT – SALES  (Electri cal Eng. ) \\nFeb. 2009 – Aug. 2013 Head  of Sales,  Spain  & Portugal  – Test &Measurement  dept.\\n YOKOGAWA  Madrid,  Spain  \\n• Applied  analysis  of sales  and market  trends  to decide  the direction  of the department.  \\n• Led a team  of 7 people .  \\n \\n2 of 2 Juan Jose Carin  \\nData Scientist   \\nMountain View , CA 94041  \\n 650-336-4590  | juanjose.carin@gmail.com  \\n linkedin.com/in/juanjosecarin  | juanjocarin.github.io  \\n \\n• Increased  revenue  by 6.3%,  gross  profit  by 4.2%,  and operating  income  by 146%,  and achieved  a 30%  \\nratio  of new  customers  (3x growth),  by entering  new  markets  and improvi ng customer  service  and \\ntraining .\\nSALES (Electri cal Eng.  & Telecom. ) \\nApr. 2008 – Jan. 2009 Sales  Engineer  – Test  & Meas urement  dept. \\n YOKOGAWA  Madrid,  Spain  \\n• Promoted  to head  of sales  after  5 months  leading  the sales  team.  \\nSep. 2004 – Mar. 2008 Sales  & Application  Engineer  \\n AYSCOM  Madrid,  Spain  \\n• Exceeded  sales  target  every  year  from  2005  to 2007  (achieved  60%  of the target  in the first 3 months  \\nof 2008 ). \\nEDUCATION\\nJul. 2002 – Jun. 2004 Tutor  of Differential  & Integral  Calculus,  Physics,  and Digital  Electronic  Circuits\\n ACADEMIA  UNIVERSITARIA  Madrid,  Spain  \\n• Highest -rated  professor  in student  surveys,  in 4 of the 6 terms.  \\n• Increased  ratio of stud ents passing the course by 25%.  \\nProjects   See juanjocarin.github.io  for additional  information\\n2016  SmartCam  \\nCapstone  Python , OpenCV , TensorFlow , AWS  (EC2, S3, DynamoDB ) \\nA scalable  cloud -based  video  monitoring  system  that features  motion  detection,  face  counting,  and image  recognition.\\n2015  Implementation  of the Shortest  Path  and PageRank  algorithms  with  the Wikipedia  graph  dataset  \\nMachine  Learning  at Scale  Hadoop  MrJob,  Python , AWS  EC2, AWS  S3\\nUsing  a graph  dataset  of almost  half a million  nodes.  \\n2015  Forest  cover  type  prediction  \\nMachine  Learning  Python , Scikit -Learn , Matplotlib  \\nA Kaggle  competition : predictions  of the predominant  kind  of tree cover,  from  strictly  cartographic  variables  such  as elevation  \\nand soil type,  using  random  forests,  SVMs,  kNNs,  Naive Bayes,  Gradient  Descent,  GMMs , …\\n2015  Redefining  the job search  process  \\nStoring  and Retrieving  Data  Hadoop  HDFS , Hive , Spark , Python , AWS  EC2, Tableau\\nA pipeline  that combines  data  from  Indeed  API and the U.S. Census  Bureau  to select  the best  locations  for data  scientists  \\nbased  on the number  of job postings,  housing  cost,  etc.\\n2015  A fresh  perspective  on Citi Bike  \\nData  Visualization  and Communication  Tableau , SQLite\\nAn interactive  website  to visualize  NYC Citi Bike  bicycle sharing  service.\\n2015  Investigating  the effect  of competition  on the ability  to solve  arithmetic  problems  \\nField  Experiments  R \\nA randomized  controlled  trial in which  300+  participants  were  assigned  to a control  group  or one of two test groups  to \\nevaluate  the effect  of competition  (being  compared  to no one or someone  better  or worse).  \\n2014  Prediction  of customer  churn  for a mobile  network  carrier  \\nData  Mining  SAS\\nPredictions  from  a sample  of 45,000+  customers,  using  tree decisions,  logistic  regression , and neural  networks.  \\n2014  Different  models  of Harmonized  Index  of Consumer  Prices  (HICP)  in Spain  \\nTime  Series  SPSS , Demetra+\\nForecasts  based  on exponential  smoothing,  ARIMA,  and transfer  function  (using  petrol  price  as independent  variable)  models.  \\n\", 'name': 'Juan Jose'}\n",
            "{'role_applied': 'Data Analyst', 'resume_text': \"SHAKTHI SARAVANAN D  \\n \\n+91 8778445852  • shakthid303@gmail.com  • linkedin.com/in/shakthi -saravanan -d-17953a240•  \\nSUMMARY  \\nAI and  data science student with hands -on experience in machine learning, data visualization, and software \\ndevelopment. Skilled in Python, SQL, Tableau, and TensorFlow, with a growing focus on Generative AI techniques \\nlike Large Language Models (LLMs) .  \\nEDUCATI ON \\nB.TECH  Sep 2022 – Sep 2026*  \\nBachelor  of Technology  in Artificial  Intelligence  and Data  Science.  \\n \\nATOMIC ENERGY CENTRAL SCHOOL                                                                                     July 2019  - June  2021  \\nHigher Secondary School - 89% \\nSecondary  School  - 88.4%  \\nTECHNICAL  SKILLS  \\nProgramming Languages:  Python, C, Java, C++, Javascript  \\nLibraries:  React, Nodejs, NLP, OpenCV, Tensorflow  \\nBusiness Intelligence:  Tableau  \\nCertifications:  Machine Learning A -Z: Hands -On Python & R in Data Science (Udemy) ,Python Data Analysis , Getting \\nStarted with Test Automation Using Selenium . \\nACADEMIC  PROJECTS  \\nSkillSeeker: NLP -Powered Resume Analyzer   May 2024 - June 2024  \\n• Engineered an NLP -based resume analyzer with SpaCy and NLTK, parsing 200+ res umes for key skills, increasing \\nrecruiter efficiency by 30%.  \\nMuscleManiac: Gym Tracker Applicatio n                                                                                        Aug 2024 - Oct 2024  \\n• Developed a gym tracking application using the MERN  stack, enabling users to log cardio and resistance training \\nactivities.  \\nCricketVision: Player Weakness & Strength Analyzer                                                                   Feb 2025 – Mar 2025  \\n• Highlights the use of computer vision (OpenCV) and analytics to assess cricketers' strengths and weaknesses.   \\nHOBBIES  \\nPresent Filming short films, Working on AI projects , watching sports, and fitness.  \\n \\n\", 'name': 'Shakthi Saravanan D'}\n"
          ]
        }
      ],
      "source": [
        "for i in range(length_of_extracted_content):\n",
        "    print(extracted_content[i].to_dict())"
      ]
    },
    {
      "cell_type": "code",
      "execution_count": null,
      "metadata": {
        "id": "rBHx2CVuc1TY"
      },
      "outputs": [],
      "source": [
        "resume_texts = []\n",
        "\n",
        "for i in range(length_of_extracted_content):\n",
        "    doc = extracted_content[i].to_dict()\n",
        "    if 'resume_text' in doc:\n",
        "        resume_texts.append(doc['resume_text'])"
      ]
    },
    {
      "cell_type": "code",
      "execution_count": null,
      "metadata": {
        "colab": {
          "base_uri": "https://localhost:8080/"
        },
        "id": "unV3bViKdZpf",
        "outputId": "9b92a774-c20b-49c1-f0d3-ee41c3a45920"
      },
      "outputs": [
        {
          "output_type": "execute_result",
          "data": {
            "text/plain": [
              "[\"1 of 2 Juan Jose Carin  \\nData Scientist   \\nMountain View , CA 94041  \\n 650-336-4590  | juanjose.carin@gmail.com  \\n linkedin.com/in/juanjosecarin  | juanjocarin.github.io  \\n \\nProfessional  Profile  \\nPassionate abo ut data analysis and experiments, mainly focused on user  behavior, experience , and engagement , with a solid \\nbackground in data science and statistics, and extensive experience using data insights to drive business growth.  \\nEducation\\n2016  University  of California,  Berkeley  Master  of Information  and Data  Science  GPA:  3.93\\n \\n \\n Relevant  courses : \\n• Machine  Learning  \\n• Machine  Learning  at Scale  \\n• Storing  and Retrieving  Data  • Field  Experiments  \\n• Applied  Regression  and Time  Series  \\nAnalysis  \\n• Exploring  and Analyzing  Data  • Data  Visualization  and \\nCommunication  \\n• Research  Design  and Applications  for \\nData  Analysis  \\n2014 Universidad  Politécnica  de Madrid  M.S.  in Statistical  and Computational  Information  Processing  GPA:  3.69\\n \\n \\n Relevant  courses :  \\n• Data  Mining  \\n• Multivariate  Analysis  \\n• Time  Series  • Neural  Networks  and Statistical  \\nLearning  \\n• Regression  and Prediction  Methods  \\n• Optimization  Techniques  • Monte  Carlo  Techniques  \\n• Numerical  Methods  in Finance  \\n• Stochastic  Models  in Finance  \\n• Bayesian  Networks\\n2005  Universidad  Politécnica  de Madrid  M.S.  in Telecommunication  Engineering  GPA:  3.03\\nFocus  Area:  Radio  communication  systems  (radar  and mobile).  \\nFellowship:  First  year  at University,  due to Honors  obtained  last year  at high  school.  \\nSkills  \\n Programming  / Statistics  Big Data  Visual ization  Others  \\nProficient:  R, Python , SQL Hadoop , Hive , MrJob  Tableau  Git, AWS  \\nIntermediate:  SPSS , SAS, Matlab  Spark , Storm   Bash  \\nBasic:  EViews , Demetra+   D3.js Gephi , Neo4j , QGIS  \\nExperience  \\nDATA SCIENCE  \\nJan. 2016  – Mar.  2016 Data  Scientist  \\n CONENTO   Madrid,  Spain  (working  remotely)  \\n• Designed  and implemented  the ETL pipeline  for a predictive  model  of traffic  on the main  roads  in \\neastern  Spain  (a project  for the Spanish  government) . \\n• Automated  scripts  in R to extract,  transform,  clean  (incl. anomaly  detection),  and load  into MySQL  \\ndata  from  multiple  data  sources : road  traffic  sensors,  accidents , road  works,  weather .\\nJun. 2014  – Sep.  2014  Data  Scientist   \\n CONENTO  Madrid,  Spain  \\n• Designed  an experiment  for Google  Spain  (conducted  in October  2014)  to measure  the impact  of \\nYouTube  ads on the sales  of a car manufacturer 's dealer  network.  \\n• A matched -pair,  cluster -randomized  design , which  involved  selecting  the test and control  groups  \\nfrom  a sample  of 50+ cities  in Spain  (where  geo-targeted  ads were  possible)  based  on their  sales -\\nwise  similarity  over  time,  using  wavelets  (and  R). \\nMANAGEM ENT – SALES  (Electri cal Eng. ) \\nFeb. 2009 – Aug. 2013 Head  of Sales,  Spain  & Portugal  – Test &Measurement  dept.\\n YOKOGAWA  Madrid,  Spain  \\n• Applied  analysis  of sales  and market  trends  to decide  the direction  of the department.  \\n• Led a team  of 7 people .  \\n \\n2 of 2 Juan Jose Carin  \\nData Scientist   \\nMountain View , CA 94041  \\n 650-336-4590  | juanjose.carin@gmail.com  \\n linkedin.com/in/juanjosecarin  | juanjocarin.github.io  \\n \\n• Increased  revenue  by 6.3%,  gross  profit  by 4.2%,  and operating  income  by 146%,  and achieved  a 30%  \\nratio  of new  customers  (3x growth),  by entering  new  markets  and improvi ng customer  service  and \\ntraining .\\nSALES (Electri cal Eng.  & Telecom. ) \\nApr. 2008 – Jan. 2009 Sales  Engineer  – Test  & Meas urement  dept. \\n YOKOGAWA  Madrid,  Spain  \\n• Promoted  to head  of sales  after  5 months  leading  the sales  team.  \\nSep. 2004 – Mar. 2008 Sales  & Application  Engineer  \\n AYSCOM  Madrid,  Spain  \\n• Exceeded  sales  target  every  year  from  2005  to 2007  (achieved  60%  of the target  in the first 3 months  \\nof 2008 ). \\nEDUCATION\\nJul. 2002 – Jun. 2004 Tutor  of Differential  & Integral  Calculus,  Physics,  and Digital  Electronic  Circuits\\n ACADEMIA  UNIVERSITARIA  Madrid,  Spain  \\n• Highest -rated  professor  in student  surveys,  in 4 of the 6 terms.  \\n• Increased  ratio of stud ents passing the course by 25%.  \\nProjects   See juanjocarin.github.io  for additional  information\\n2016  SmartCam  \\nCapstone  Python , OpenCV , TensorFlow , AWS  (EC2, S3, DynamoDB ) \\nA scalable  cloud -based  video  monitoring  system  that features  motion  detection,  face  counting,  and image  recognition.\\n2015  Implementation  of the Shortest  Path  and PageRank  algorithms  with  the Wikipedia  graph  dataset  \\nMachine  Learning  at Scale  Hadoop  MrJob,  Python , AWS  EC2, AWS  S3\\nUsing  a graph  dataset  of almost  half a million  nodes.  \\n2015  Forest  cover  type  prediction  \\nMachine  Learning  Python , Scikit -Learn , Matplotlib  \\nA Kaggle  competition : predictions  of the predominant  kind  of tree cover,  from  strictly  cartographic  variables  such  as elevation  \\nand soil type,  using  random  forests,  SVMs,  kNNs,  Naive Bayes,  Gradient  Descent,  GMMs , …\\n2015  Redefining  the job search  process  \\nStoring  and Retrieving  Data  Hadoop  HDFS , Hive , Spark , Python , AWS  EC2, Tableau\\nA pipeline  that combines  data  from  Indeed  API and the U.S. Census  Bureau  to select  the best  locations  for data  scientists  \\nbased  on the number  of job postings,  housing  cost,  etc.\\n2015  A fresh  perspective  on Citi Bike  \\nData  Visualization  and Communication  Tableau , SQLite\\nAn interactive  website  to visualize  NYC Citi Bike  bicycle sharing  service.\\n2015  Investigating  the effect  of competition  on the ability  to solve  arithmetic  problems  \\nField  Experiments  R \\nA randomized  controlled  trial in which  300+  participants  were  assigned  to a control  group  or one of two test groups  to \\nevaluate  the effect  of competition  (being  compared  to no one or someone  better  or worse).  \\n2014  Prediction  of customer  churn  for a mobile  network  carrier  \\nData  Mining  SAS\\nPredictions  from  a sample  of 45,000+  customers,  using  tree decisions,  logistic  regression , and neural  networks.  \\n2014  Different  models  of Harmonized  Index  of Consumer  Prices  (HICP)  in Spain  \\nTime  Series  SPSS , Demetra+\\nForecasts  based  on exponential  smoothing,  ARIMA,  and transfer  function  (using  petrol  price  as independent  variable)  models.  \\n\",\n",
              " \"SHAKTHI SARAVANAN D  \\n \\n+91 8778445852  • shakthid303@gmail.com  • linkedin.com/in/shakthi -saravanan -d-17953a240•  \\nSUMMARY  \\nAI and  data science student with hands -on experience in machine learning, data visualization, and software \\ndevelopment. Skilled in Python, SQL, Tableau, and TensorFlow, with a growing focus on Generative AI techniques \\nlike Large Language Models (LLMs) .  \\nEDUCATI ON \\nB.TECH  Sep 2022 – Sep 2026*  \\nBachelor  of Technology  in Artificial  Intelligence  and Data  Science.  \\n \\nATOMIC ENERGY CENTRAL SCHOOL                                                                                     July 2019  - June  2021  \\nHigher Secondary School - 89% \\nSecondary  School  - 88.4%  \\nTECHNICAL  SKILLS  \\nProgramming Languages:  Python, C, Java, C++, Javascript  \\nLibraries:  React, Nodejs, NLP, OpenCV, Tensorflow  \\nBusiness Intelligence:  Tableau  \\nCertifications:  Machine Learning A -Z: Hands -On Python & R in Data Science (Udemy) ,Python Data Analysis , Getting \\nStarted with Test Automation Using Selenium . \\nACADEMIC  PROJECTS  \\nSkillSeeker: NLP -Powered Resume Analyzer   May 2024 - June 2024  \\n• Engineered an NLP -based resume analyzer with SpaCy and NLTK, parsing 200+ res umes for key skills, increasing \\nrecruiter efficiency by 30%.  \\nMuscleManiac: Gym Tracker Applicatio n                                                                                        Aug 2024 - Oct 2024  \\n• Developed a gym tracking application using the MERN  stack, enabling users to log cardio and resistance training \\nactivities.  \\nCricketVision: Player Weakness & Strength Analyzer                                                                   Feb 2025 – Mar 2025  \\n• Highlights the use of computer vision (OpenCV) and analytics to assess cricketers' strengths and weaknesses.   \\nHOBBIES  \\nPresent Filming short films, Working on AI projects , watching sports, and fitness.  \\n \\n\"]"
            ]
          },
          "metadata": {},
          "execution_count": 26
        }
      ],
      "source": [
        "resume_texts"
      ]
    },
    {
      "cell_type": "code",
      "execution_count": null,
      "metadata": {
        "colab": {
          "base_uri": "https://localhost:8080/"
        },
        "id": "-rT3ozjgdcBK",
        "outputId": "6cf36747-e0e3-4748-d20c-540d2dc6d995"
      },
      "outputs": [
        {
          "output_type": "stream",
          "name": "stdout",
          "text": [
            "Requirement already satisfied: torch in /usr/local/lib/python3.11/dist-packages (2.6.0+cu124)\n",
            "Requirement already satisfied: sentencepiece in /usr/local/lib/python3.11/dist-packages (0.2.0)\n",
            "Requirement already satisfied: filelock in /usr/local/lib/python3.11/dist-packages (from torch) (3.18.0)\n",
            "Requirement already satisfied: typing-extensions>=4.10.0 in /usr/local/lib/python3.11/dist-packages (from torch) (4.13.2)\n",
            "Requirement already satisfied: networkx in /usr/local/lib/python3.11/dist-packages (from torch) (3.4.2)\n",
            "Requirement already satisfied: jinja2 in /usr/local/lib/python3.11/dist-packages (from torch) (3.1.6)\n",
            "Requirement already satisfied: fsspec in /usr/local/lib/python3.11/dist-packages (from torch) (2025.3.2)\n",
            "Collecting nvidia-cuda-nvrtc-cu12==12.4.127 (from torch)\n",
            "  Downloading nvidia_cuda_nvrtc_cu12-12.4.127-py3-none-manylinux2014_x86_64.whl.metadata (1.5 kB)\n",
            "Collecting nvidia-cuda-runtime-cu12==12.4.127 (from torch)\n",
            "  Downloading nvidia_cuda_runtime_cu12-12.4.127-py3-none-manylinux2014_x86_64.whl.metadata (1.5 kB)\n",
            "Collecting nvidia-cuda-cupti-cu12==12.4.127 (from torch)\n",
            "  Downloading nvidia_cuda_cupti_cu12-12.4.127-py3-none-manylinux2014_x86_64.whl.metadata (1.6 kB)\n",
            "Collecting nvidia-cudnn-cu12==9.1.0.70 (from torch)\n",
            "  Downloading nvidia_cudnn_cu12-9.1.0.70-py3-none-manylinux2014_x86_64.whl.metadata (1.6 kB)\n",
            "Collecting nvidia-cublas-cu12==12.4.5.8 (from torch)\n",
            "  Downloading nvidia_cublas_cu12-12.4.5.8-py3-none-manylinux2014_x86_64.whl.metadata (1.5 kB)\n",
            "Collecting nvidia-cufft-cu12==11.2.1.3 (from torch)\n",
            "  Downloading nvidia_cufft_cu12-11.2.1.3-py3-none-manylinux2014_x86_64.whl.metadata (1.5 kB)\n",
            "Collecting nvidia-curand-cu12==10.3.5.147 (from torch)\n",
            "  Downloading nvidia_curand_cu12-10.3.5.147-py3-none-manylinux2014_x86_64.whl.metadata (1.5 kB)\n",
            "Collecting nvidia-cusolver-cu12==11.6.1.9 (from torch)\n",
            "  Downloading nvidia_cusolver_cu12-11.6.1.9-py3-none-manylinux2014_x86_64.whl.metadata (1.6 kB)\n",
            "Collecting nvidia-cusparse-cu12==12.3.1.170 (from torch)\n",
            "  Downloading nvidia_cusparse_cu12-12.3.1.170-py3-none-manylinux2014_x86_64.whl.metadata (1.6 kB)\n",
            "Requirement already satisfied: nvidia-cusparselt-cu12==0.6.2 in /usr/local/lib/python3.11/dist-packages (from torch) (0.6.2)\n",
            "Requirement already satisfied: nvidia-nccl-cu12==2.21.5 in /usr/local/lib/python3.11/dist-packages (from torch) (2.21.5)\n",
            "Requirement already satisfied: nvidia-nvtx-cu12==12.4.127 in /usr/local/lib/python3.11/dist-packages (from torch) (12.4.127)\n",
            "Collecting nvidia-nvjitlink-cu12==12.4.127 (from torch)\n",
            "  Downloading nvidia_nvjitlink_cu12-12.4.127-py3-none-manylinux2014_x86_64.whl.metadata (1.5 kB)\n",
            "Requirement already satisfied: triton==3.2.0 in /usr/local/lib/python3.11/dist-packages (from torch) (3.2.0)\n",
            "Requirement already satisfied: sympy==1.13.1 in /usr/local/lib/python3.11/dist-packages (from torch) (1.13.1)\n",
            "Requirement already satisfied: mpmath<1.4,>=1.1.0 in /usr/local/lib/python3.11/dist-packages (from sympy==1.13.1->torch) (1.3.0)\n",
            "Requirement already satisfied: MarkupSafe>=2.0 in /usr/local/lib/python3.11/dist-packages (from jinja2->torch) (3.0.2)\n",
            "Downloading nvidia_cublas_cu12-12.4.5.8-py3-none-manylinux2014_x86_64.whl (363.4 MB)\n",
            "\u001b[2K   \u001b[91m━━━━━━━━━━━━━━━\u001b[0m\u001b[90m╺\u001b[0m\u001b[90m━━━━━━━━━━━━━━━━━━━━━━━━\u001b[0m \u001b[32m137.7/363.4 MB\u001b[0m \u001b[31m94.0 MB/s\u001b[0m eta \u001b[36m0:00:03\u001b[0m\n",
            "\u001b[?25hDownloading nvidia_cuda_cupti_cu12-12.4.127-py3-none-manylinux2014_x86_64.whl (13.8 MB)\n",
            "\u001b[2K   \u001b[90m━━━━━━━━━━━━━━━━━━━━━━━━━━━━━━━━━━━━━━━━\u001b[0m \u001b[32m13.8/13.8 MB\u001b[0m \u001b[31m46.8 MB/s\u001b[0m eta \u001b[36m0:00:00\u001b[0m\n",
            "\u001b[?25hDownloading nvidia_cuda_nvrtc_cu12-12.4.127-py3-none-manylinux2014_x86_64.whl (24.6 MB)\n",
            "\u001b[2K   \u001b[90m━━━━━━━━━━━━━━━━━━━━━━━━━━━━━━━━━━━━━━━━\u001b[0m \u001b[32m24.6/24.6 MB\u001b[0m \u001b[31m82.3 MB/s\u001b[0m eta \u001b[36m0:00:00\u001b[0m\n",
            "\u001b[?25hDownloading nvidia_cuda_runtime_cu12-12.4.127-py3-none-manylinux2014_x86_64.whl (883 kB)\n",
            "\u001b[2K   \u001b[90m━━━━━━━━━━━━━━━━━━━━━━━━━━━━━━━━━━━━━━━━\u001b[0m \u001b[32m883.7/883.7 kB\u001b[0m \u001b[31m43.2 MB/s\u001b[0m eta \u001b[36m0:00:00\u001b[0m\n",
            "\u001b[?25hDownloading nvidia_cudnn_cu12-9.1.0.70-py3-none-manylinux2014_x86_64.whl (664.8 MB)\n",
            "\u001b[2K   \u001b[90m━━━━━━━━━━━━━━━━━━━━━━━━━━━━━━━━━━━━━━━\u001b[0m \u001b[32m664.8/664.8 MB\u001b[0m \u001b[31m926.2 kB/s\u001b[0m eta \u001b[36m0:00:00\u001b[0m\n",
            "\u001b[?25hDownloading nvidia_cufft_cu12-11.2.1.3-py3-none-manylinux2014_x86_64.whl (211.5 MB)\n",
            "\u001b[2K   \u001b[90m━━━━━━━━━━━━━━━━━━━━━━━━━━━━━━━━━━━━━━━━\u001b[0m \u001b[32m211.5/211.5 MB\u001b[0m \u001b[31m4.5 MB/s\u001b[0m eta \u001b[36m0:00:00\u001b[0m\n",
            "\u001b[?25hDownloading nvidia_curand_cu12-10.3.5.147-py3-none-manylinux2014_x86_64.whl (56.3 MB)\n",
            "\u001b[2K   \u001b[90m━━━━━━━━━━━━━━━━━━━━━━━━━━━━━━━━━━━━━━━━\u001b[0m \u001b[32m56.3/56.3 MB\u001b[0m \u001b[31m13.3 MB/s\u001b[0m eta \u001b[36m0:00:00\u001b[0m\n",
            "\u001b[?25hDownloading nvidia_cusolver_cu12-11.6.1.9-py3-none-manylinux2014_x86_64.whl (127.9 MB)\n",
            "\u001b[2K   \u001b[90m━━━━━━━━━━━━━━━━━━━━━━━━━━━━━━━━━━━━━━━━\u001b[0m \u001b[32m127.9/127.9 MB\u001b[0m \u001b[31m7.9 MB/s\u001b[0m eta \u001b[36m0:00:00\u001b[0m\n",
            "\u001b[?25hDownloading nvidia_cusparse_cu12-12.3.1.170-py3-none-manylinux2014_x86_64.whl (207.5 MB)\n",
            "\u001b[2K   \u001b[90m━━━━━━━━━━━━━━━━━━━━━━━━━━━━━━━━━━━━━━━━\u001b[0m \u001b[32m207.5/207.5 MB\u001b[0m \u001b[31m6.6 MB/s\u001b[0m eta \u001b[36m0:00:00\u001b[0m\n",
            "\u001b[?25hDownloading nvidia_nvjitlink_cu12-12.4.127-py3-none-manylinux2014_x86_64.whl (21.1 MB)\n",
            "\u001b[2K   \u001b[90m━━━━━━━━━━━━━━━━━━━━━━━━━━━━━━━━━━━━━━━━\u001b[0m \u001b[32m21.1/21.1 MB\u001b[0m \u001b[31m61.5 MB/s\u001b[0m eta \u001b[36m0:00:00\u001b[0m\n",
            "\u001b[?25h\u001b[31mERROR: THESE PACKAGES DO NOT MATCH THE HASHES FROM THE REQUIREMENTS FILE. If you have updated the package versions, please update the hashes. Otherwise, examine the package contents carefully; someone may have tampered with them.\n",
            "    unknown package:\n",
            "        Expected sha256 2fc8da60df463fdefa81e323eef2e36489e1c94335b5358bcb38360adf75ac9b\n",
            "             Got        e45f0da2a1efdf17788ecd42a3c5b1a2b957d60828743a4c338299f2c44233a7\n",
            "\u001b[0m\u001b[31m\n",
            "\u001b[0m"
          ]
        }
      ],
      "source": [
        "pip install torch sentencepiece"
      ]
    },
    {
      "cell_type": "code",
      "source": [
        "from transformers import AutoTokenizer, AutoModelForSeq2SeqLM\n",
        "import torch\n",
        "\n",
        "model_name = \"google/flan-t5-base\"\n",
        "\n",
        "tokenizer = AutoTokenizer.from_pretrained(model_name)\n",
        "model = AutoModelForSeq2SeqLM.from_pretrained(model_name)\n"
      ],
      "metadata": {
        "id": "HM6MH46uqW_T"
      },
      "execution_count": null,
      "outputs": []
    },
    {
      "cell_type": "code",
      "source": [
        "def correct_grammar(text: str) -> str:\n",
        "    prompt = f\"Fix the spelling and grammar: {text}\"\n",
        "\n",
        "    inputs = tokenizer(prompt, return_tensors=\"pt\", truncation=True)\n",
        "    outputs = model.generate(**inputs, max_length=256)\n",
        "    corrected = tokenizer.decode(outputs[0], skip_special_tokens=True)\n",
        "\n",
        "    return corrected\n"
      ],
      "metadata": {
        "id": "r1DHUEXVrC8y"
      },
      "execution_count": null,
      "outputs": []
    },
    {
      "cell_type": "code",
      "source": [
        "for text in resume_texts:\n",
        "    corrected = correct_grammar(text)\n",
        "    print(\"Original:\", text)\n",
        "    print(\"Corrected:\", corrected)\n",
        "    print(\"-\" * 60)"
      ],
      "metadata": {
        "colab": {
          "base_uri": "https://localhost:8080/"
        },
        "id": "5iSgbm8CrJMd",
        "outputId": "d9b1ae37-bc05-4955-df20-e74c2c8a299a"
      },
      "execution_count": null,
      "outputs": [
        {
          "output_type": "stream",
          "name": "stdout",
          "text": [
            "Original: 1 of 2 Juan Jose Carin  \n",
            "Data Scientist   \n",
            "Mountain View , CA 94041  \n",
            " 650-336-4590  | juanjose.carin@gmail.com  \n",
            " linkedin.com/in/juanjosecarin  | juanjocarin.github.io  \n",
            " \n",
            "Professional  Profile  \n",
            "Passionate abo ut data analysis and experiments, mainly focused on user  behavior, experience , and engagement , with a solid \n",
            "background in data science and statistics, and extensive experience using data insights to drive business growth.  \n",
            "Education\n",
            "2016  University  of California,  Berkeley  Master  of Information  and Data  Science  GPA:  3.93\n",
            " \n",
            " \n",
            " Relevant  courses : \n",
            "• Machine  Learning  \n",
            "• Machine  Learning  at Scale  \n",
            "• Storing  and Retrieving  Data  • Field  Experiments  \n",
            "• Applied  Regression  and Time  Series  \n",
            "Analysis  \n",
            "• Exploring  and Analyzing  Data  • Data  Visualization  and \n",
            "Communication  \n",
            "• Research  Design  and Applications  for \n",
            "Data  Analysis  \n",
            "2014 Universidad  Politécnica  de Madrid  M.S.  in Statistical  and Computational  Information  Processing  GPA:  3.69\n",
            " \n",
            " \n",
            " Relevant  courses :  \n",
            "• Data  Mining  \n",
            "• Multivariate  Analysis  \n",
            "• Time  Series  • Neural  Networks  and Statistical  \n",
            "Learning  \n",
            "• Regression  and Prediction  Methods  \n",
            "• Optimization  Techniques  • Monte  Carlo  Techniques  \n",
            "• Numerical  Methods  in Finance  \n",
            "• Stochastic  Models  in Finance  \n",
            "• Bayesian  Networks\n",
            "2005  Universidad  Politécnica  de Madrid  M.S.  in Telecommunication  Engineering  GPA:  3.03\n",
            "Focus  Area:  Radio  communication  systems  (radar  and mobile).  \n",
            "Fellowship:  First  year  at University,  due to Honors  obtained  last year  at high  school.  \n",
            "Skills  \n",
            " Programming  / Statistics  Big Data  Visual ization  Others  \n",
            "Proficient:  R, Python , SQL Hadoop , Hive , MrJob  Tableau  Git, AWS  \n",
            "Intermediate:  SPSS , SAS, Matlab  Spark , Storm   Bash  \n",
            "Basic:  EViews , Demetra+   D3.js Gephi , Neo4j , QGIS  \n",
            "Experience  \n",
            "DATA SCIENCE  \n",
            "Jan. 2016  – Mar.  2016 Data  Scientist  \n",
            " CONENTO   Madrid,  Spain  (working  remotely)  \n",
            "• Designed  and implemented  the ETL pipeline  for a predictive  model  of traffic  on the main  roads  in \n",
            "eastern  Spain  (a project  for the Spanish  government) . \n",
            "• Automated  scripts  in R to extract,  transform,  clean  (incl. anomaly  detection),  and load  into MySQL  \n",
            "data  from  multiple  data  sources : road  traffic  sensors,  accidents , road  works,  weather .\n",
            "Jun. 2014  – Sep.  2014  Data  Scientist   \n",
            " CONENTO  Madrid,  Spain  \n",
            "• Designed  an experiment  for Google  Spain  (conducted  in October  2014)  to measure  the impact  of \n",
            "YouTube  ads on the sales  of a car manufacturer 's dealer  network.  \n",
            "• A matched -pair,  cluster -randomized  design , which  involved  selecting  the test and control  groups  \n",
            "from  a sample  of 50+ cities  in Spain  (where  geo-targeted  ads were  possible)  based  on their  sales -\n",
            "wise  similarity  over  time,  using  wavelets  (and  R). \n",
            "MANAGEM ENT – SALES  (Electri cal Eng. ) \n",
            "Feb. 2009 – Aug. 2013 Head  of Sales,  Spain  & Portugal  – Test &Measurement  dept.\n",
            " YOKOGAWA  Madrid,  Spain  \n",
            "• Applied  analysis  of sales  and market  trends  to decide  the direction  of the department.  \n",
            "• Led a team  of 7 people .  \n",
            " \n",
            "2 of 2 Juan Jose Carin  \n",
            "Data Scientist   \n",
            "Mountain View , CA 94041  \n",
            " 650-336-4590  | juanjose.carin@gmail.com  \n",
            " linkedin.com/in/juanjosecarin  | juanjocarin.github.io  \n",
            " \n",
            "• Increased  revenue  by 6.3%,  gross  profit  by 4.2%,  and operating  income  by 146%,  and achieved  a 30%  \n",
            "ratio  of new  customers  (3x growth),  by entering  new  markets  and improvi ng customer  service  and \n",
            "training .\n",
            "SALES (Electri cal Eng.  & Telecom. ) \n",
            "Apr. 2008 – Jan. 2009 Sales  Engineer  – Test  & Meas urement  dept. \n",
            " YOKOGAWA  Madrid,  Spain  \n",
            "• Promoted  to head  of sales  after  5 months  leading  the sales  team.  \n",
            "Sep. 2004 – Mar. 2008 Sales  & Application  Engineer  \n",
            " AYSCOM  Madrid,  Spain  \n",
            "• Exceeded  sales  target  every  year  from  2005  to 2007  (achieved  60%  of the target  in the first 3 months  \n",
            "of 2008 ). \n",
            "EDUCATION\n",
            "Jul. 2002 – Jun. 2004 Tutor  of Differential  & Integral  Calculus,  Physics,  and Digital  Electronic  Circuits\n",
            " ACADEMIA  UNIVERSITARIA  Madrid,  Spain  \n",
            "• Highest -rated  professor  in student  surveys,  in 4 of the 6 terms.  \n",
            "• Increased  ratio of stud ents passing the course by 25%.  \n",
            "Projects   See juanjocarin.github.io  for additional  information\n",
            "2016  SmartCam  \n",
            "Capstone  Python , OpenCV , TensorFlow , AWS  (EC2, S3, DynamoDB ) \n",
            "A scalable  cloud -based  video  monitoring  system  that features  motion  detection,  face  counting,  and image  recognition.\n",
            "2015  Implementation  of the Shortest  Path  and PageRank  algorithms  with  the Wikipedia  graph  dataset  \n",
            "Machine  Learning  at Scale  Hadoop  MrJob,  Python , AWS  EC2, AWS  S3\n",
            "Using  a graph  dataset  of almost  half a million  nodes.  \n",
            "2015  Forest  cover  type  prediction  \n",
            "Machine  Learning  Python , Scikit -Learn , Matplotlib  \n",
            "A Kaggle  competition : predictions  of the predominant  kind  of tree cover,  from  strictly  cartographic  variables  such  as elevation  \n",
            "and soil type,  using  random  forests,  SVMs,  kNNs,  Naive Bayes,  Gradient  Descent,  GMMs , …\n",
            "2015  Redefining  the job search  process  \n",
            "Storing  and Retrieving  Data  Hadoop  HDFS , Hive , Spark , Python , AWS  EC2, Tableau\n",
            "A pipeline  that combines  data  from  Indeed  API and the U.S. Census  Bureau  to select  the best  locations  for data  scientists  \n",
            "based  on the number  of job postings,  housing  cost,  etc.\n",
            "2015  A fresh  perspective  on Citi Bike  \n",
            "Data  Visualization  and Communication  Tableau , SQLite\n",
            "An interactive  website  to visualize  NYC Citi Bike  bicycle sharing  service.\n",
            "2015  Investigating  the effect  of competition  on the ability  to solve  arithmetic  problems  \n",
            "Field  Experiments  R \n",
            "A randomized  controlled  trial in which  300+  participants  were  assigned  to a control  group  or one of two test groups  to \n",
            "evaluate  the effect  of competition  (being  compared  to no one or someone  better  or worse).  \n",
            "2014  Prediction  of customer  churn  for a mobile  network  carrier  \n",
            "Data  Mining  SAS\n",
            "Predictions  from  a sample  of 45,000+  customers,  using  tree decisions,  logistic  regression , and neural  networks.  \n",
            "2014  Different  models  of Harmonized  Index  of Consumer  Prices  (HICP)  in Spain  \n",
            "Time  Series  SPSS , Demetra+\n",
            "Forecasts  based  on exponential  smoothing,  ARIMA,  and transfer  function  (using  petrol  price  as independent  variable)  models.  \n",
            "\n",
            "Corrected: 1 of 2 Juan Jose Carin Data Scientist Mountain View , CA 94041 650-336-4590 | juanjose.carin@gmail.com linkedin.com/in/juanjosecarin | juanjocarin.github.io Professional Profile Passionate abo ut data analysis and experiments, mainly focused on user behavior, experience , and engagement , with a solid background in data science and statistics, and extensive experience using data insights to drive business growth. Education 2016 University of California, Berkeley Master of Information and Data Science GPA: 3.93 Relevant courses : • Machine Learning • Machine Learning at Scale • Storing and Retrieving Data • Field Experiments • Applied Regression and Time Series Analysis • Exploring and Analyzing Data • Data Visualization and Communication • Research Design and Applications for Data Analysis 2014 Universidad Politécnica de Madrid M.S. in Statistical and Computational Information Processing GPA: 3.69 Relevant courses : • Data Mining • Multivariate Analysis • Time Series • Neural Networks and Statistical Learning • Regression and Prediction Methods • Optimization\n",
            "------------------------------------------------------------\n",
            "Original: SHAKTHI SARAVANAN D  \n",
            " \n",
            "+91 8778445852  • shakthid303@gmail.com  • linkedin.com/in/shakthi -saravanan -d-17953a240•  \n",
            "SUMMARY  \n",
            "AI and  data science student with hands -on experience in machine learning, data visualization, and software \n",
            "development. Skilled in Python, SQL, Tableau, and TensorFlow, with a growing focus on Generative AI techniques \n",
            "like Large Language Models (LLMs) .  \n",
            "EDUCATI ON \n",
            "B.TECH  Sep 2022 – Sep 2026*  \n",
            "Bachelor  of Technology  in Artificial  Intelligence  and Data  Science.  \n",
            " \n",
            "ATOMIC ENERGY CENTRAL SCHOOL                                                                                     July 2019  - June  2021  \n",
            "Higher Secondary School - 89% \n",
            "Secondary  School  - 88.4%  \n",
            "TECHNICAL  SKILLS  \n",
            "Programming Languages:  Python, C, Java, C++, Javascript  \n",
            "Libraries:  React, Nodejs, NLP, OpenCV, Tensorflow  \n",
            "Business Intelligence:  Tableau  \n",
            "Certifications:  Machine Learning A -Z: Hands -On Python & R in Data Science (Udemy) ,Python Data Analysis , Getting \n",
            "Started with Test Automation Using Selenium . \n",
            "ACADEMIC  PROJECTS  \n",
            "SkillSeeker: NLP -Powered Resume Analyzer   May 2024 - June 2024  \n",
            "• Engineered an NLP -based resume analyzer with SpaCy and NLTK, parsing 200+ res umes for key skills, increasing \n",
            "recruiter efficiency by 30%.  \n",
            "MuscleManiac: Gym Tracker Applicatio n                                                                                        Aug 2024 - Oct 2024  \n",
            "• Developed a gym tracking application using the MERN  stack, enabling users to log cardio and resistance training \n",
            "activities.  \n",
            "CricketVision: Player Weakness & Strength Analyzer                                                                   Feb 2025 – Mar 2025  \n",
            "• Highlights the use of computer vision (OpenCV) and analytics to assess cricketers' strengths and weaknesses.   \n",
            "HOBBIES  \n",
            "Present Filming short films, Working on AI projects , watching sports, and fitness.  \n",
            " \n",
            "\n",
            "Corrected: SHAKTHI SARAVANAN D +91 8778445852 • shakthid303@gmail.com • linkedin.com/in/shakthi-saravanan -d-17953a240• SUMMARY AI and data science student with hands -on experience in machine learning, data visualization, and software development. Skilled in Python, C, Java, C++, Javascript libraries: React, Nodejs, NLP, OpenCV, Tensorflow, Business Intelligence: Tableau Certifications: Machine Learning A -Z: Hands -On Python & R in Data Science (Udemy) ,Python Data Analysis , Getting Started with Test Automation Using Selenium . ACADEMIC PROJECTS SkillSeeker: NLP -powered Resume Analyzer May 2024 - June 2024 • Engineered an NLP -based resume analyzer with SpaCy and NLTK, parsing 200+ res umes for key skills, increasing recruiter efficiency by 30%. MuscleManiac: Gym Tracker\n",
            "------------------------------------------------------------\n"
          ]
        }
      ]
    },
    {
      "cell_type": "code",
      "source": [
        "def rewrite_resume_paragraph(text: str) -> str:\n",
        "    # Prompt the model to rewrite it professionally\n",
        "    prompt = f\"\"\"Read the following resume paragraph, understand its meaning, and rewrite it professionally with correct grammar and concise wording:\n",
        "{text}\"\"\"\n",
        "\n",
        "    inputs = tokenizer(prompt, return_tensors=\"pt\", truncation=True)\n",
        "    outputs = model.generate(**inputs, max_length=256, do_sample=False)\n",
        "    rewritten = tokenizer.decode(outputs[0], skip_special_tokens=True)\n",
        "\n",
        "    return rewritten"
      ],
      "metadata": {
        "id": "aJV2VKjuszRt"
      },
      "execution_count": null,
      "outputs": []
    },
    {
      "cell_type": "code",
      "source": [
        "for text in resume_texts:\n",
        "    rewritten = rewrite_resume_paragraph(text)\n",
        "    print(\"📄 Original:\\n\", text)\n",
        "    print(\"\\n✅ Rewritten:\\n\", rewritten)\n",
        "    print(\"=\"*70)"
      ],
      "metadata": {
        "colab": {
          "base_uri": "https://localhost:8080/"
        },
        "id": "Q9ZNYK8BwLnp",
        "outputId": "428026c2-a848-4a36-f7df-7673be245365"
      },
      "execution_count": null,
      "outputs": [
        {
          "output_type": "stream",
          "name": "stdout",
          "text": [
            "📄 Original:\n",
            " 1 of 2 Juan Jose Carin  \n",
            "Data Scientist   \n",
            "Mountain View , CA 94041  \n",
            " 650-336-4590  | juanjose.carin@gmail.com  \n",
            " linkedin.com/in/juanjosecarin  | juanjocarin.github.io  \n",
            " \n",
            "Professional  Profile  \n",
            "Passionate abo ut data analysis and experiments, mainly focused on user  behavior, experience , and engagement , with a solid \n",
            "background in data science and statistics, and extensive experience using data insights to drive business growth.  \n",
            "Education\n",
            "2016  University  of California,  Berkeley  Master  of Information  and Data  Science  GPA:  3.93\n",
            " \n",
            " \n",
            " Relevant  courses : \n",
            "• Machine  Learning  \n",
            "• Machine  Learning  at Scale  \n",
            "• Storing  and Retrieving  Data  • Field  Experiments  \n",
            "• Applied  Regression  and Time  Series  \n",
            "Analysis  \n",
            "• Exploring  and Analyzing  Data  • Data  Visualization  and \n",
            "Communication  \n",
            "• Research  Design  and Applications  for \n",
            "Data  Analysis  \n",
            "2014 Universidad  Politécnica  de Madrid  M.S.  in Statistical  and Computational  Information  Processing  GPA:  3.69\n",
            " \n",
            " \n",
            " Relevant  courses :  \n",
            "• Data  Mining  \n",
            "• Multivariate  Analysis  \n",
            "• Time  Series  • Neural  Networks  and Statistical  \n",
            "Learning  \n",
            "• Regression  and Prediction  Methods  \n",
            "• Optimization  Techniques  • Monte  Carlo  Techniques  \n",
            "• Numerical  Methods  in Finance  \n",
            "• Stochastic  Models  in Finance  \n",
            "• Bayesian  Networks\n",
            "2005  Universidad  Politécnica  de Madrid  M.S.  in Telecommunication  Engineering  GPA:  3.03\n",
            "Focus  Area:  Radio  communication  systems  (radar  and mobile).  \n",
            "Fellowship:  First  year  at University,  due to Honors  obtained  last year  at high  school.  \n",
            "Skills  \n",
            " Programming  / Statistics  Big Data  Visual ization  Others  \n",
            "Proficient:  R, Python , SQL Hadoop , Hive , MrJob  Tableau  Git, AWS  \n",
            "Intermediate:  SPSS , SAS, Matlab  Spark , Storm   Bash  \n",
            "Basic:  EViews , Demetra+   D3.js Gephi , Neo4j , QGIS  \n",
            "Experience  \n",
            "DATA SCIENCE  \n",
            "Jan. 2016  – Mar.  2016 Data  Scientist  \n",
            " CONENTO   Madrid,  Spain  (working  remotely)  \n",
            "• Designed  and implemented  the ETL pipeline  for a predictive  model  of traffic  on the main  roads  in \n",
            "eastern  Spain  (a project  for the Spanish  government) . \n",
            "• Automated  scripts  in R to extract,  transform,  clean  (incl. anomaly  detection),  and load  into MySQL  \n",
            "data  from  multiple  data  sources : road  traffic  sensors,  accidents , road  works,  weather .\n",
            "Jun. 2014  – Sep.  2014  Data  Scientist   \n",
            " CONENTO  Madrid,  Spain  \n",
            "• Designed  an experiment  for Google  Spain  (conducted  in October  2014)  to measure  the impact  of \n",
            "YouTube  ads on the sales  of a car manufacturer 's dealer  network.  \n",
            "• A matched -pair,  cluster -randomized  design , which  involved  selecting  the test and control  groups  \n",
            "from  a sample  of 50+ cities  in Spain  (where  geo-targeted  ads were  possible)  based  on their  sales -\n",
            "wise  similarity  over  time,  using  wavelets  (and  R). \n",
            "MANAGEM ENT – SALES  (Electri cal Eng. ) \n",
            "Feb. 2009 – Aug. 2013 Head  of Sales,  Spain  & Portugal  – Test &Measurement  dept.\n",
            " YOKOGAWA  Madrid,  Spain  \n",
            "• Applied  analysis  of sales  and market  trends  to decide  the direction  of the department.  \n",
            "• Led a team  of 7 people .  \n",
            " \n",
            "2 of 2 Juan Jose Carin  \n",
            "Data Scientist   \n",
            "Mountain View , CA 94041  \n",
            " 650-336-4590  | juanjose.carin@gmail.com  \n",
            " linkedin.com/in/juanjosecarin  | juanjocarin.github.io  \n",
            " \n",
            "• Increased  revenue  by 6.3%,  gross  profit  by 4.2%,  and operating  income  by 146%,  and achieved  a 30%  \n",
            "ratio  of new  customers  (3x growth),  by entering  new  markets  and improvi ng customer  service  and \n",
            "training .\n",
            "SALES (Electri cal Eng.  & Telecom. ) \n",
            "Apr. 2008 – Jan. 2009 Sales  Engineer  – Test  & Meas urement  dept. \n",
            " YOKOGAWA  Madrid,  Spain  \n",
            "• Promoted  to head  of sales  after  5 months  leading  the sales  team.  \n",
            "Sep. 2004 – Mar. 2008 Sales  & Application  Engineer  \n",
            " AYSCOM  Madrid,  Spain  \n",
            "• Exceeded  sales  target  every  year  from  2005  to 2007  (achieved  60%  of the target  in the first 3 months  \n",
            "of 2008 ). \n",
            "EDUCATION\n",
            "Jul. 2002 – Jun. 2004 Tutor  of Differential  & Integral  Calculus,  Physics,  and Digital  Electronic  Circuits\n",
            " ACADEMIA  UNIVERSITARIA  Madrid,  Spain  \n",
            "• Highest -rated  professor  in student  surveys,  in 4 of the 6 terms.  \n",
            "• Increased  ratio of stud ents passing the course by 25%.  \n",
            "Projects   See juanjocarin.github.io  for additional  information\n",
            "2016  SmartCam  \n",
            "Capstone  Python , OpenCV , TensorFlow , AWS  (EC2, S3, DynamoDB ) \n",
            "A scalable  cloud -based  video  monitoring  system  that features  motion  detection,  face  counting,  and image  recognition.\n",
            "2015  Implementation  of the Shortest  Path  and PageRank  algorithms  with  the Wikipedia  graph  dataset  \n",
            "Machine  Learning  at Scale  Hadoop  MrJob,  Python , AWS  EC2, AWS  S3\n",
            "Using  a graph  dataset  of almost  half a million  nodes.  \n",
            "2015  Forest  cover  type  prediction  \n",
            "Machine  Learning  Python , Scikit -Learn , Matplotlib  \n",
            "A Kaggle  competition : predictions  of the predominant  kind  of tree cover,  from  strictly  cartographic  variables  such  as elevation  \n",
            "and soil type,  using  random  forests,  SVMs,  kNNs,  Naive Bayes,  Gradient  Descent,  GMMs , …\n",
            "2015  Redefining  the job search  process  \n",
            "Storing  and Retrieving  Data  Hadoop  HDFS , Hive , Spark , Python , AWS  EC2, Tableau\n",
            "A pipeline  that combines  data  from  Indeed  API and the U.S. Census  Bureau  to select  the best  locations  for data  scientists  \n",
            "based  on the number  of job postings,  housing  cost,  etc.\n",
            "2015  A fresh  perspective  on Citi Bike  \n",
            "Data  Visualization  and Communication  Tableau , SQLite\n",
            "An interactive  website  to visualize  NYC Citi Bike  bicycle sharing  service.\n",
            "2015  Investigating  the effect  of competition  on the ability  to solve  arithmetic  problems  \n",
            "Field  Experiments  R \n",
            "A randomized  controlled  trial in which  300+  participants  were  assigned  to a control  group  or one of two test groups  to \n",
            "evaluate  the effect  of competition  (being  compared  to no one or someone  better  or worse).  \n",
            "2014  Prediction  of customer  churn  for a mobile  network  carrier  \n",
            "Data  Mining  SAS\n",
            "Predictions  from  a sample  of 45,000+  customers,  using  tree decisions,  logistic  regression , and neural  networks.  \n",
            "2014  Different  models  of Harmonized  Index  of Consumer  Prices  (HICP)  in Spain  \n",
            "Time  Series  SPSS , Demetra+\n",
            "Forecasts  based  on exponential  smoothing,  ARIMA,  and transfer  function  (using  petrol  price  as independent  variable)  models.  \n",
            "\n",
            "\n",
            "✅ Rewritten:\n",
            " Data Science and Statistics\n",
            "======================================================================\n",
            "📄 Original:\n",
            " SHAKTHI SARAVANAN D  \n",
            " \n",
            "+91 8778445852  • shakthid303@gmail.com  • linkedin.com/in/shakthi -saravanan -d-17953a240•  \n",
            "SUMMARY  \n",
            "AI and  data science student with hands -on experience in machine learning, data visualization, and software \n",
            "development. Skilled in Python, SQL, Tableau, and TensorFlow, with a growing focus on Generative AI techniques \n",
            "like Large Language Models (LLMs) .  \n",
            "EDUCATI ON \n",
            "B.TECH  Sep 2022 – Sep 2026*  \n",
            "Bachelor  of Technology  in Artificial  Intelligence  and Data  Science.  \n",
            " \n",
            "ATOMIC ENERGY CENTRAL SCHOOL                                                                                     July 2019  - June  2021  \n",
            "Higher Secondary School - 89% \n",
            "Secondary  School  - 88.4%  \n",
            "TECHNICAL  SKILLS  \n",
            "Programming Languages:  Python, C, Java, C++, Javascript  \n",
            "Libraries:  React, Nodejs, NLP, OpenCV, Tensorflow  \n",
            "Business Intelligence:  Tableau  \n",
            "Certifications:  Machine Learning A -Z: Hands -On Python & R in Data Science (Udemy) ,Python Data Analysis , Getting \n",
            "Started with Test Automation Using Selenium . \n",
            "ACADEMIC  PROJECTS  \n",
            "SkillSeeker: NLP -Powered Resume Analyzer   May 2024 - June 2024  \n",
            "• Engineered an NLP -based resume analyzer with SpaCy and NLTK, parsing 200+ res umes for key skills, increasing \n",
            "recruiter efficiency by 30%.  \n",
            "MuscleManiac: Gym Tracker Applicatio n                                                                                        Aug 2024 - Oct 2024  \n",
            "• Developed a gym tracking application using the MERN  stack, enabling users to log cardio and resistance training \n",
            "activities.  \n",
            "CricketVision: Player Weakness & Strength Analyzer                                                                   Feb 2025 – Mar 2025  \n",
            "• Highlights the use of computer vision (OpenCV) and analytics to assess cricketers' strengths and weaknesses.   \n",
            "HOBBIES  \n",
            "Present Filming short films, Working on AI projects , watching sports, and fitness.  \n",
            " \n",
            "\n",
            "\n",
            "✅ Rewritten:\n",
            " SHAKTHI SARAVANAN D +91 8778445852 • shakthid303@gmail.com • linkedin.com/in/shakthi-saravanan -d-17953a240• SUMMARY AI and data science student with hands -on experience in machine learning, data visualization, and software development. Skilled in Python, C, Java, C++, Javascript libraries: React, Nodejs, NLP, OpenCV, Tensorflow, Business Intelligence: Tableau Certifications: Machine Learning A -Z: Hands -On Python & R in Data Science (Udemy) ,Python Data Analysis , Getting Started with Test Automation Using Selenium . ACADEMIC PROJECTS SkillSeeker: NLP -powered Resume Analyzer May 2024 - June 2024 • Engineered an NLP -based resume analyzer with SpaCy and NLTK, parsing 200+ res umes for key skills, increasing recruiter efficiency by 30%. MuscleManiac: Gym Tracker\n",
            "======================================================================\n"
          ]
        }
      ]
    },
    {
      "cell_type": "code",
      "source": [
        "from transformers import AutoTokenizer, AutoModelForSeq2SeqLM\n",
        "import torch\n",
        "\n",
        "model_name = \"google/flan-t5-base\"\n",
        "tokenizer = AutoTokenizer.from_pretrained(model_name)\n",
        "model = AutoModelForSeq2SeqLM.from_pretrained(model_name)\n"
      ],
      "metadata": {
        "id": "CKdq53jYwOEf"
      },
      "execution_count": null,
      "outputs": []
    },
    {
      "cell_type": "code",
      "source": [
        "def rewrite_resume_paragraph(text: str) -> str:\n",
        "    prompt = f\"\"\"Rewrite the following resume content in a professional and grammatically correct way. Summarize where possible:\n",
        "{text}\"\"\"\n",
        "\n",
        "    inputs = tokenizer(prompt, return_tensors=\"pt\", truncation=True)\n",
        "    outputs = model.generate(**inputs, max_length=256)\n",
        "    return tokenizer.decode(outputs[0], skip_special_tokens=True)\n"
      ],
      "metadata": {
        "id": "ktMOJnw5ID8E"
      },
      "execution_count": null,
      "outputs": []
    },
    {
      "cell_type": "code",
      "source": [
        "def extract_skills_and_projects(text: str) -> dict:\n",
        "    questions = {\n",
        "        \"projects\": f\"What are the projects mentioned in this resume?\\n{text}\",\n",
        "        \"skills\": f\"What are the technical skills mentioned in this resume?\\n{text}\"\n",
        "    }\n",
        "    answers = {}\n",
        "\n",
        "    for key, q in questions.items():\n",
        "        inputs = tokenizer(q, return_tensors=\"pt\", truncation=True)\n",
        "        outputs = model.generate(**inputs, max_length=128)\n",
        "        answer = tokenizer.decode(outputs[0], skip_special_tokens=True)\n",
        "        answers[key] = answer.strip()\n",
        "\n",
        "    return answers\n"
      ],
      "metadata": {
        "id": "FLSV3M0KIFmF"
      },
      "execution_count": null,
      "outputs": []
    },
    {
      "cell_type": "code",
      "source": [
        "for i, text in enumerate(resume_texts, 1):\n",
        "    print(f\"\\n📝 Resume {i} - Original Text:\\n{text}\")\n",
        "\n",
        "    rewritten = rewrite_resume_paragraph(text)\n",
        "    print(f\"\\n✅ Rewritten Resume Paragraph:\\n{rewritten}\")\n",
        "\n",
        "    qa_result = extract_skills_and_projects(text)\n",
        "    print(\"\\n🔍 Extracted Info:\")\n",
        "    print(\"📌 Projects:\", qa_result['projects'])\n",
        "    print(\"🧠 Skills:\", qa_result['skills'])\n",
        "    print(\"=\" * 80)"
      ],
      "metadata": {
        "colab": {
          "base_uri": "https://localhost:8080/"
        },
        "id": "cZddLpsIIICj",
        "outputId": "66fd7f91-8295-44ad-957a-cb197c5b64cf"
      },
      "execution_count": null,
      "outputs": [
        {
          "output_type": "stream",
          "name": "stdout",
          "text": [
            "\n",
            "📝 Resume 1 - Original Text:\n",
            "1 of 2 Juan Jose Carin  \n",
            "Data Scientist   \n",
            "Mountain View , CA 94041  \n",
            " 650-336-4590  | juanjose.carin@gmail.com  \n",
            " linkedin.com/in/juanjosecarin  | juanjocarin.github.io  \n",
            " \n",
            "Professional  Profile  \n",
            "Passionate abo ut data analysis and experiments, mainly focused on user  behavior, experience , and engagement , with a solid \n",
            "background in data science and statistics, and extensive experience using data insights to drive business growth.  \n",
            "Education\n",
            "2016  University  of California,  Berkeley  Master  of Information  and Data  Science  GPA:  3.93\n",
            " \n",
            " \n",
            " Relevant  courses : \n",
            "• Machine  Learning  \n",
            "• Machine  Learning  at Scale  \n",
            "• Storing  and Retrieving  Data  • Field  Experiments  \n",
            "• Applied  Regression  and Time  Series  \n",
            "Analysis  \n",
            "• Exploring  and Analyzing  Data  • Data  Visualization  and \n",
            "Communication  \n",
            "• Research  Design  and Applications  for \n",
            "Data  Analysis  \n",
            "2014 Universidad  Politécnica  de Madrid  M.S.  in Statistical  and Computational  Information  Processing  GPA:  3.69\n",
            " \n",
            " \n",
            " Relevant  courses :  \n",
            "• Data  Mining  \n",
            "• Multivariate  Analysis  \n",
            "• Time  Series  • Neural  Networks  and Statistical  \n",
            "Learning  \n",
            "• Regression  and Prediction  Methods  \n",
            "• Optimization  Techniques  • Monte  Carlo  Techniques  \n",
            "• Numerical  Methods  in Finance  \n",
            "• Stochastic  Models  in Finance  \n",
            "• Bayesian  Networks\n",
            "2005  Universidad  Politécnica  de Madrid  M.S.  in Telecommunication  Engineering  GPA:  3.03\n",
            "Focus  Area:  Radio  communication  systems  (radar  and mobile).  \n",
            "Fellowship:  First  year  at University,  due to Honors  obtained  last year  at high  school.  \n",
            "Skills  \n",
            " Programming  / Statistics  Big Data  Visual ization  Others  \n",
            "Proficient:  R, Python , SQL Hadoop , Hive , MrJob  Tableau  Git, AWS  \n",
            "Intermediate:  SPSS , SAS, Matlab  Spark , Storm   Bash  \n",
            "Basic:  EViews , Demetra+   D3.js Gephi , Neo4j , QGIS  \n",
            "Experience  \n",
            "DATA SCIENCE  \n",
            "Jan. 2016  – Mar.  2016 Data  Scientist  \n",
            " CONENTO   Madrid,  Spain  (working  remotely)  \n",
            "• Designed  and implemented  the ETL pipeline  for a predictive  model  of traffic  on the main  roads  in \n",
            "eastern  Spain  (a project  for the Spanish  government) . \n",
            "• Automated  scripts  in R to extract,  transform,  clean  (incl. anomaly  detection),  and load  into MySQL  \n",
            "data  from  multiple  data  sources : road  traffic  sensors,  accidents , road  works,  weather .\n",
            "Jun. 2014  – Sep.  2014  Data  Scientist   \n",
            " CONENTO  Madrid,  Spain  \n",
            "• Designed  an experiment  for Google  Spain  (conducted  in October  2014)  to measure  the impact  of \n",
            "YouTube  ads on the sales  of a car manufacturer 's dealer  network.  \n",
            "• A matched -pair,  cluster -randomized  design , which  involved  selecting  the test and control  groups  \n",
            "from  a sample  of 50+ cities  in Spain  (where  geo-targeted  ads were  possible)  based  on their  sales -\n",
            "wise  similarity  over  time,  using  wavelets  (and  R). \n",
            "MANAGEM ENT – SALES  (Electri cal Eng. ) \n",
            "Feb. 2009 – Aug. 2013 Head  of Sales,  Spain  & Portugal  – Test &Measurement  dept.\n",
            " YOKOGAWA  Madrid,  Spain  \n",
            "• Applied  analysis  of sales  and market  trends  to decide  the direction  of the department.  \n",
            "• Led a team  of 7 people .  \n",
            " \n",
            "2 of 2 Juan Jose Carin  \n",
            "Data Scientist   \n",
            "Mountain View , CA 94041  \n",
            " 650-336-4590  | juanjose.carin@gmail.com  \n",
            " linkedin.com/in/juanjosecarin  | juanjocarin.github.io  \n",
            " \n",
            "• Increased  revenue  by 6.3%,  gross  profit  by 4.2%,  and operating  income  by 146%,  and achieved  a 30%  \n",
            "ratio  of new  customers  (3x growth),  by entering  new  markets  and improvi ng customer  service  and \n",
            "training .\n",
            "SALES (Electri cal Eng.  & Telecom. ) \n",
            "Apr. 2008 – Jan. 2009 Sales  Engineer  – Test  & Meas urement  dept. \n",
            " YOKOGAWA  Madrid,  Spain  \n",
            "• Promoted  to head  of sales  after  5 months  leading  the sales  team.  \n",
            "Sep. 2004 – Mar. 2008 Sales  & Application  Engineer  \n",
            " AYSCOM  Madrid,  Spain  \n",
            "• Exceeded  sales  target  every  year  from  2005  to 2007  (achieved  60%  of the target  in the first 3 months  \n",
            "of 2008 ). \n",
            "EDUCATION\n",
            "Jul. 2002 – Jun. 2004 Tutor  of Differential  & Integral  Calculus,  Physics,  and Digital  Electronic  Circuits\n",
            " ACADEMIA  UNIVERSITARIA  Madrid,  Spain  \n",
            "• Highest -rated  professor  in student  surveys,  in 4 of the 6 terms.  \n",
            "• Increased  ratio of stud ents passing the course by 25%.  \n",
            "Projects   See juanjocarin.github.io  for additional  information\n",
            "2016  SmartCam  \n",
            "Capstone  Python , OpenCV , TensorFlow , AWS  (EC2, S3, DynamoDB ) \n",
            "A scalable  cloud -based  video  monitoring  system  that features  motion  detection,  face  counting,  and image  recognition.\n",
            "2015  Implementation  of the Shortest  Path  and PageRank  algorithms  with  the Wikipedia  graph  dataset  \n",
            "Machine  Learning  at Scale  Hadoop  MrJob,  Python , AWS  EC2, AWS  S3\n",
            "Using  a graph  dataset  of almost  half a million  nodes.  \n",
            "2015  Forest  cover  type  prediction  \n",
            "Machine  Learning  Python , Scikit -Learn , Matplotlib  \n",
            "A Kaggle  competition : predictions  of the predominant  kind  of tree cover,  from  strictly  cartographic  variables  such  as elevation  \n",
            "and soil type,  using  random  forests,  SVMs,  kNNs,  Naive Bayes,  Gradient  Descent,  GMMs , …\n",
            "2015  Redefining  the job search  process  \n",
            "Storing  and Retrieving  Data  Hadoop  HDFS , Hive , Spark , Python , AWS  EC2, Tableau\n",
            "A pipeline  that combines  data  from  Indeed  API and the U.S. Census  Bureau  to select  the best  locations  for data  scientists  \n",
            "based  on the number  of job postings,  housing  cost,  etc.\n",
            "2015  A fresh  perspective  on Citi Bike  \n",
            "Data  Visualization  and Communication  Tableau , SQLite\n",
            "An interactive  website  to visualize  NYC Citi Bike  bicycle sharing  service.\n",
            "2015  Investigating  the effect  of competition  on the ability  to solve  arithmetic  problems  \n",
            "Field  Experiments  R \n",
            "A randomized  controlled  trial in which  300+  participants  were  assigned  to a control  group  or one of two test groups  to \n",
            "evaluate  the effect  of competition  (being  compared  to no one or someone  better  or worse).  \n",
            "2014  Prediction  of customer  churn  for a mobile  network  carrier  \n",
            "Data  Mining  SAS\n",
            "Predictions  from  a sample  of 45,000+  customers,  using  tree decisions,  logistic  regression , and neural  networks.  \n",
            "2014  Different  models  of Harmonized  Index  of Consumer  Prices  (HICP)  in Spain  \n",
            "Time  Series  SPSS , Demetra+\n",
            "Forecasts  based  on exponential  smoothing,  ARIMA,  and transfer  function  (using  petrol  price  as independent  variable)  models.  \n",
            "\n",
            "\n",
            "✅ Rewritten Resume Paragraph:\n",
            "Data Science and Statistics\n",
            "\n",
            "🔍 Extracted Info:\n",
            "📌 Projects: ) , re-enter, and clean (incl. anomaly detection) data from a database.\n",
            "🧠 Skills: ) , resequencing, resequencing, resequencing, resequencing, resequencing, resequencing, resequencing, resequencing, resequencing, resequencing, resequencing, resequencing, resequencing, resequencing, resequencing, resequencing, resequencing, rese\n",
            "================================================================================\n",
            "\n",
            "📝 Resume 2 - Original Text:\n",
            "SHAKTHI SARAVANAN D  \n",
            " \n",
            "+91 8778445852  • shakthid303@gmail.com  • linkedin.com/in/shakthi -saravanan -d-17953a240•  \n",
            "SUMMARY  \n",
            "AI and  data science student with hands -on experience in machine learning, data visualization, and software \n",
            "development. Skilled in Python, SQL, Tableau, and TensorFlow, with a growing focus on Generative AI techniques \n",
            "like Large Language Models (LLMs) .  \n",
            "EDUCATI ON \n",
            "B.TECH  Sep 2022 – Sep 2026*  \n",
            "Bachelor  of Technology  in Artificial  Intelligence  and Data  Science.  \n",
            " \n",
            "ATOMIC ENERGY CENTRAL SCHOOL                                                                                     July 2019  - June  2021  \n",
            "Higher Secondary School - 89% \n",
            "Secondary  School  - 88.4%  \n",
            "TECHNICAL  SKILLS  \n",
            "Programming Languages:  Python, C, Java, C++, Javascript  \n",
            "Libraries:  React, Nodejs, NLP, OpenCV, Tensorflow  \n",
            "Business Intelligence:  Tableau  \n",
            "Certifications:  Machine Learning A -Z: Hands -On Python & R in Data Science (Udemy) ,Python Data Analysis , Getting \n",
            "Started with Test Automation Using Selenium . \n",
            "ACADEMIC  PROJECTS  \n",
            "SkillSeeker: NLP -Powered Resume Analyzer   May 2024 - June 2024  \n",
            "• Engineered an NLP -based resume analyzer with SpaCy and NLTK, parsing 200+ res umes for key skills, increasing \n",
            "recruiter efficiency by 30%.  \n",
            "MuscleManiac: Gym Tracker Applicatio n                                                                                        Aug 2024 - Oct 2024  \n",
            "• Developed a gym tracking application using the MERN  stack, enabling users to log cardio and resistance training \n",
            "activities.  \n",
            "CricketVision: Player Weakness & Strength Analyzer                                                                   Feb 2025 – Mar 2025  \n",
            "• Highlights the use of computer vision (OpenCV) and analytics to assess cricketers' strengths and weaknesses.   \n",
            "HOBBIES  \n",
            "Present Filming short films, Working on AI projects , watching sports, and fitness.  \n",
            " \n",
            "\n",
            "\n",
            "✅ Rewritten Resume Paragraph:\n",
            "SHAKTHI SARAVANAN D +91 8778445852 • shakthid303@gmail.com • linkedin.com/in/shakthi-saravanan -d-17953a240• SUMMARY AI and data science student with hands -on experience in machine learning, data visualization, and software development. Skilled in Python, C, Java, C++, Javascript libraries: React, Nodejs, NLP, OpenCV, Tensorflow Business Intelligence: Tableau Certifications: Machine Learning A -Z: Hands -On Python & R in Data Science (Udemy) ,Python Data Analysis , Getting Started with Test Automation Using Selenium . ACADEMIC PROJECTS SkillSeeker: NLP -powered Resume Analyzer May 2024 - June 2024 • Engineered an NLP -based resume analyzer with SpaCy and NLTK, parsing 200+ res umes for key skills, increasing recruiter efficiency by 30%. MuscleManiac: Gym Tracker App\n",
            "\n",
            "🔍 Extracted Info:\n",
            "📌 Projects: SHAKTHI SARAVANAN D +91 8778445852 • shakthid303@gmail.com • linkedin.com/in/shakthi-saravanan -d-17953a240• SHAKTHI SARAVANAN D +91 8778445852 • shakthid303@gmail.com • linkedin.com/in/shakthi-saravanan -d-17953a240• SHAKTHI SARAVANAN D +91 8778445852 • shakthid303\n",
            "🧠 Skills: SHAKTHI SARAVANAN D +91 8778445852 • shakthid303@gmail.com • linkedin.com/in/shakthi-saravanan -d-17953a240• SUMMARY AI and data science student with hands -on experience in machine learning, data visualization, and software development. Skilled in Python, C, Java, C++, Javascript libraries: React, Nodejs, NLP, OpenCV, Tensorflow\n",
            "================================================================================\n"
          ]
        }
      ]
    },
    {
      "cell_type": "code",
      "source": [
        "collection_name = \"Summary\""
      ],
      "metadata": {
        "id": "o1IhS-L1JP_-"
      },
      "execution_count": null,
      "outputs": []
    },
    {
      "cell_type": "code",
      "source": [
        "doc_ref = db.collection(collection_name).add(qa_result)"
      ],
      "metadata": {
        "id": "gqMZC1VDMWHO"
      },
      "execution_count": null,
      "outputs": []
    },
    {
      "cell_type": "code",
      "source": [
        "print(\"✅ Uploaded to Firestore with ID:\", doc_ref[1].id)"
      ],
      "metadata": {
        "colab": {
          "base_uri": "https://localhost:8080/"
        },
        "id": "aLsJJPyPMt82",
        "outputId": "19ec542c-b1e0-4354-ae1c-b0aac23119a6"
      },
      "execution_count": null,
      "outputs": [
        {
          "output_type": "stream",
          "name": "stdout",
          "text": [
            "✅ Uploaded to Firestore with ID: SinmKcYp2WwvuQqtNNs8\n"
          ]
        }
      ]
    }
  ],
  "metadata": {
    "colab": {
      "provenance": []
    },
    "kernelspec": {
      "display_name": "Python 3",
      "name": "python3"
    },
    "language_info": {
      "name": "python"
    }
  },
  "nbformat": 4,
  "nbformat_minor": 0
}